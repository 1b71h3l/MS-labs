{
 "cells": [
  {
   "cell_type": "markdown",
   "metadata": {},
   "source": [
    "<figure>\n",
    "  <IMG src=\"figures/logo-esi-sba.png\" WIDTH=300 height=\"100\" ALIGN=\"right\">\n",
    "</figure>\n",
    "\n",
    "# Practical Trainining Series on Modeling And Simulation   \n",
    "*By Dr. Belkacem KHALDI (b.khaldi@esi-sba.dz)*"
   ]
  },
  {
   "cell_type": "markdown",
   "metadata": {},
   "source": [
    "## Notebook 3: Probabilities and Random Number Simulation\n",
    "In this Notebook you learn how to deal with Probabilities and Random Number Simulation. Many of the functions we will use are included in the `random` subpackage of `numpy`. We will import this package and call it `rnd` so that we don't have to type `np.random`. all the time."
   ]
  },
  {
   "cell_type": "code",
   "execution_count": 2,
   "metadata": {},
   "outputs": [],
   "source": [
    "%matplotlib inline\n",
    "import numpy as np\n",
    "import matplotlib.pyplot as plt\n",
    "import numpy.random as rnd"
   ]
  },
  {
   "cell_type": "markdown",
   "metadata": {},
   "source": [
    "### 1- Introduction to Probability\n",
    "Probability is a means of determining and describing the likelihood of an event occurring or the truth of a situation. It's a helpful mathematical tool for coping with unpredictability and uncertainty.\n",
    "\n",
    "### Exemple 1: Tossing a coin \n",
    "Currency coins are often said to have two sides: a \"head\" and a \"tail\"\n",
    "\n",
    "<figure>\n",
    "  <IMG src=\"figures/coin-100dz.jpeg\" WIDTH=300 height=\"100\" ALIGN=\"right\">\n",
    "</figure>\n",
    " \n",
    "A fair coin is one that is equally likely to land on either side when tossed or flipped. The side that shows up on top once the coin lands is referred to as the result of a coin toss/flip.\n",
    "    \n",
    "If we have precise measurements of the physical environment and the forces used to toss the coin, we may be able to predict the outcome. However, we rarely have access to this information, making it difficult (if not impossible) to execute all of these measurements with adequate precision.\n",
    "    \n",
    "The assumption of randomness allows you to deal with limited data and unpredictable outcomes. Tossing a coin is described as an experiment that can yield one of two outcomes at random. Probability is a metric for determining how likely each outcome is.\n",
    "\n",
    "> **Question**: If you flip a fair coin, what is the **probability** of **getting heads**?\n",
    "\n",
    "When we have several equally likely possible outcomes, the probability of a condition (also called event) is defined as:\n",
    "\n",
    "> $$P(\\textrm{condition}) = \\frac{\\textrm{ No. of outcomes satisfying the condition }} {\\textrm{Number of equally likely outcomes}}$$\n",
    "\n",
    "**The probability of a condition/event is a number between 0 and 1.**\n",
    "\n",
    "\n",
    "We can define a function `probability` to perform this calculation."
   ]
  },
  {
   "cell_type": "code",
   "execution_count": 2,
   "metadata": {},
   "outputs": [],
   "source": [
    "def probability(matching_outcomes, total_outcomes):\n",
    "    return matching_outcomes/total_outcomes"
   ]
  },
  {
   "cell_type": "markdown",
   "metadata": {},
   "source": [
    "When we toss a fair coin, there are just two conceivable outcomes: \"head\" or \"tail,\" both equally likely. One of the outcomes matches the condition \"getting a head\". \n",
    "\n",
    "With this information, we can now use the formula to compute the probability of a getting a head."
   ]
  },
  {
   "cell_type": "code",
   "execution_count": 3,
   "metadata": {},
   "outputs": [
    {
     "name": "stdout",
     "output_type": "stream",
     "text": [
      "The probability of getting a head: 0.5\n"
     ]
    }
   ],
   "source": [
    "p_head = probability(matching_outcomes=1, total_outcomes=2)\n",
    "print(\"The probability of getting a head:\", p_head)"
   ]
  },
  {
   "cell_type": "markdown",
   "metadata": {},
   "source": [
    "### Challenge 1\n",
    "Using the `probability` function mention above, compute the probability of the following queries when you flip a fair coin:\n",
    "<ol>\n",
    "  <li>What is the probability  of getting a tail ? </li>\n",
    "  <li>What is the probability of getting a head or a tail?</li>\n",
    "  <li>What is the probability of receiving neither a head nor a tail?</li>\n",
    "</ol>\n",
    "   "
   ]
  },
  {
   "cell_type": "code",
   "execution_count": 4,
   "metadata": {},
   "outputs": [
    {
     "name": "stdout",
     "output_type": "stream",
     "text": [
      "The probability of getting a tail: 0.5\n",
      "The probability of getting a head or a tail: 1.0\n",
      "The probability of receiving neither a head nor a tail: 0\n"
     ]
    }
   ],
   "source": [
    "#Your solutions here\n",
    "p_tail = probability(matching_outcomes=1, total_outcomes=2) # 1 - p_head\n",
    "print(\"The probability of getting a tail:\", p_tail)\n",
    "p_headortail = p_head + p_tail\n",
    "print(\"The probability of getting a head or a tail:\", p_headortail)\n",
    "p_neither = 0\n",
    "print(\"The probability of receiving neither a head nor a tail:\", p_neither)"
   ]
  },
  {
   "cell_type": "markdown",
   "metadata": {},
   "source": [
    "### Exemple 2: Rolling dice\n",
    "\n",
    "A die (plural dice) is a 6-sided cube with a varied number of dots on each face (one to six). The number of dots that appear on the top face of a die after it has been rolled or thrown is known as the result of the roll/throw. As a result, a die throw can result in one of the following outcomes: 1, 2, 3, 4, 5, or 6.\n",
    "\n",
    "<img src=\"figures/one-dice.jpg\" width=\"100\">\n",
    "\n",
    "> **Question**: What is the probability of getting a four when a fair die is rolled?\n",
    "\n",
    "All outcomes are equally likely for a fair die, and the only the outcome 4 satisfies the condition \"getting a 4\". Thus, we can calculate the probability of the condition as follows:"
   ]
  },
  {
   "cell_type": "code",
   "execution_count": 5,
   "metadata": {},
   "outputs": [
    {
     "name": "stdout",
     "output_type": "stream",
     "text": [
      "The probability of getting a 4: 0.16666666666666666\n"
     ]
    }
   ],
   "source": [
    "p_die_4=probability(matching_outcomes=1, total_outcomes=6)\n",
    "print(\"The probability of getting a 4:\", p_die_4)"
   ]
  },
  {
   "cell_type": "markdown",
   "metadata": {},
   "source": [
    "### Challenge 2\n",
    "Compute the probability of the following queries when rolling a die:\n",
    "\n",
    "<ol>\n",
    "  <li>What is the probability of getting <b> an even number </b>? </li>\n",
    "  <li>What is the probability of getting <b>a three or a six </b>?</li>\n",
    "  <li>What is the probability of getting <b>a three and a six</b>?</li>\n",
    "   <li> What is the probability of getting <b> a three or a seven</b>?</li>\n",
    "</ol>"
   ]
  },
  {
   "cell_type": "code",
   "execution_count": 5,
   "metadata": {},
   "outputs": [
    {
     "name": "stdout",
     "output_type": "stream",
     "text": [
      "The probability of getting an even number: 0.5\n",
      "The probability of getting a three or a six: 0.3333333333333333\n",
      "The probability of getting a three and a six: 0\n",
      "The probability of getting a three or a seven: 0.16666666666666666\n"
     ]
    }
   ],
   "source": [
    "#Your Solutions Here\n",
    "p_die_even=probability(matching_outcomes=3, total_outcomes=6)\n",
    "print(\"The probability of getting an even number:\", p_die_even)\n",
    "p_three_or_six = probability(2, 6)\n",
    "print(\"The probability of getting a three or a six:\", p_three_or_six)\n",
    "p_three_and_six = 0\n",
    "print(\"The probability of getting a three and a six:\", p_three_and_six)\n",
    "p_three_or_seven = probability(1, 6)\n",
    "print(\"The probability of getting a three or a seven:\", p_three_or_seven)"
   ]
  },
  {
   "cell_type": "markdown",
   "metadata": {},
   "source": [
    "### Exemple 3: Playing Cards\n",
    "\n",
    "<img src=\"figures/deck_cards.jpg\" width=\"200\">\n",
    "\n",
    "There are 52 cards in a deck of playing cards. Each card is assigned to one of four suits: Spade ♠️, Clubs ♣️, Hearts ♥️ or Diamonds ♦️. Each suit consists of 13 cards: *Ace, 2, 3, 4, 5, 6, 7, 8, 9, 10, Jack, Queen*, and *King*. Hearts and diamonds are red, but spades and clubs are black.\n",
    "\n",
    "<img src=\"figures/playing_cards_deck.svg.png\" >\n",
    "\n",
    "\n",
    "\n",
    "\n",
    "In a well-shuffled deck of cards, any card is equally likely to end up at any position in the deck.\n",
    "\n",
    "<img src=\"figures/giphy.gif\" >\n",
    "\n",
    "\n",
    "> **Question**: What is the probability of **drawing a King of Hearts** from a well-shuffled deck of cards?\n",
    "\n",
    "There are 52 equally likely outcomes of the card being drawn, and just one outcome matches this condition."
   ]
  },
  {
   "cell_type": "code",
   "execution_count": 7,
   "metadata": {},
   "outputs": [
    {
     "name": "stdout",
     "output_type": "stream",
     "text": [
      "The probability of getting a King of Hearts: 0.019230769230769232\n"
     ]
    }
   ],
   "source": [
    "p_king_of_hearts=probability(matching_outcomes=1, total_outcomes=52)\n",
    "print(\"The probability of getting a King of Hearts:\", p_king_of_hearts)"
   ]
  },
  {
   "cell_type": "markdown",
   "metadata": {},
   "source": [
    "### Challenge 3\n",
    "What is the probability of **drawing a red card** from a well-shuffled deck of cards.\n",
    "\n",
    "> *Hint*: Count the number of red cards.\n",
    "\n",
    "What is the probability of **drawing a spade ♠️** from a well-shuffled deck of cards.\n",
    "\n",
    "What is the probability of **drawing a 7** from a well-shuffled deck of cards.\n",
    "\n",
    "What is the probability of **drawing a card that's a spade and a jack** from a well-shuffled deck of cards?"
   ]
  },
  {
   "cell_type": "code",
   "execution_count": 6,
   "metadata": {},
   "outputs": [
    {
     "name": "stdout",
     "output_type": "stream",
     "text": [
      "The probability of getting a red card: 0.5\n",
      "The probability of getting a spade ♠️ : 0.25\n",
      "The probability of getting a 7: 0.07692307692307693\n",
      "The probability of getting  a card that's a spade and a jack: 0.019230769230769232\n"
     ]
    }
   ],
   "source": [
    "# Your Solutions Here\n",
    "p_red=probability(26,52)\n",
    "print(\"The probability of getting a red card:\", p_red)\n",
    "p_spade=probability(13,52)\n",
    "print(\"The probability of getting a spade ♠️ :\", p_spade)\n",
    "p_seven=probability(4,52)\n",
    "print(\"The probability of getting a 7:\", p_seven)\n",
    "p_spade_jack=probability(1,52)\n",
    "print(\"The probability of getting  a card that's a spade and a jack:\", p_spade_jack)"
   ]
  },
  {
   "cell_type": "markdown",
   "metadata": {},
   "source": [
    "### Bayes's Theorem\n",
    "\n",
    "There are two ways to think about Bayes's Theorem:\n",
    "\n",
    "* It is a divide-and conquer strategy for computing conditional probabilities.  If it's hard to compute $P(A|B)$ directly, sometimes it is easier to compute the terms on the other side of the equation: $P(A)$, $P(B|A)$, and $P(B)$.\n",
    "\n",
    "* It is also a recipe for updating beliefs in the light of new data.\n",
    "\n",
    "When we are working with the second interpretation, we often write Bayes's Theorem with different variables.  Instead of $A$ and $B$, we use $H$ and $D$, where\n",
    "\n",
    "* $H$ stands for \"hypothesis\", and\n",
    "\n",
    "* $D$ stands for \"data\".\n",
    "\n",
    "So we write Bayes's Theorem like this:\n",
    "\n",
    "$P(A|B) =\\frac{P(A) ~ P(B|A)}{P(B)}$\n",
    "\n",
    "$P(H|D) =\\frac{P(H) ~ P(D|H)}{P(D)}$\n",
    "\n",
    "In this context, each term has a name:\n",
    "\n",
    "* $P(H)$ is the \"prior probability\" of the hypothesis, which represents how confident you are that $H$ is true prior to seeing the data,\n",
    "\n",
    "* $P(D|H)$ is the \"likelihood\" of the data, which is the probability of seeing $D$ if the hypothesis is true,\n",
    "\n",
    "* $P(D)$ is the \"total probability of the data\", that is, the chance of seeing $D$ regardless of whether $H$ is true or not.\n",
    "\n",
    "* $P(H|D)$ is the \"posterior probability\" of the hypothesis, which indicates how confident you should be that $H$ is true after taking the data into account.\n",
    "\n",
    "An example will make all of this clearer."
   ]
  },
  {
   "cell_type": "markdown",
   "metadata": {},
   "source": [
    "### The cookie problem\n",
    "\n",
    "\n",
    "> Suppose you have two bowls of cookies.  Bowl 1 contains 30 vanilla and 10 chocolate cookies.  Bowl 2 contains 20 of each kind.\n",
    ">\n",
    "> You choose one of the bowls at random and, without looking into the bowl, choose one of the cookies at random.  It turns out to be a vanilla cookie.\n",
    ">\n",
    "> What is the chance that you chose Bowl 1?\n",
    "\n",
    "We'll assume that there was an equal chance of choosing either bowl and an equal chance of choosing any cookie in the bowl."
   ]
  },
  {
   "cell_type": "markdown",
   "metadata": {},
   "source": [
    "We can solve this problem using Bayes's Theorem. First, I'll define  $H$  and  $D$ :\n",
    "\n",
    "$H$  is the hypothesis that the bowl you chose is Bowl 1.\n",
    "\n",
    "$D$  is the data that the cookie is vanilla.\n",
    "\n",
    "What we want is the posterior probability of  $H$ , which is  $P(H|D)$ . It is not obvious how to compute it directly, but if we can figure out the terms on the right-hand side of Bayes's Theorem, we can get to it indirectly.\n",
    "\n",
    "$P(H)$ is the prior probability of $H$, which is the probability of choosing Bowl 1 before we see the data. If there was an equal chance of choosing either bowl, $P(H)$ is 1/2.\n",
    "\n",
    "$P(D|H)$ is the likelihood of the data, which is the chance of getting a vanilla cookie if $H$ is true, in other words, the chance of getting a vanilla cookie from Bowl 1, which is 30/40.\n",
    "\n",
    "$P(D)$ is the total probability of the data, which is the chance of getting a vanilla cookie whether $𝐻$ is true or not. In this example, we can figure out $P(D)$ directly: because the bowls are equally likely, and they contain the same number of cookies, you were equally likely to choose any cookie. Combining the two bowls, there are 50 vanilla and 30 chocolate cookies, so the probability of choosing a vanilla cookie is 50/80.\n",
    "\n",
    "Now that we have the terms on the right-hand side, we can use Bayes's Theorem to combine them."
   ]
  },
  {
   "cell_type": "code",
   "execution_count": 9,
   "metadata": {},
   "outputs": [
    {
     "name": "stdout",
     "output_type": "stream",
     "text": [
      "The probability of choosing Bowl 1: 0.6\n"
     ]
    }
   ],
   "source": [
    "#𝑃(𝐻)\n",
    "prior = probability(matching_outcomes=1, total_outcomes=2)\n",
    "#𝑃(𝐷|𝐻) \n",
    "likelihood =probability(matching_outcomes=30, total_outcomes=40)\n",
    "#𝑃(𝐷)\n",
    "prob_data = probability(matching_outcomes=50, total_outcomes=80)\n",
    "#computing 𝑃(𝐻|𝐷) \n",
    "posterior = prior * likelihood / prob_data\n",
    "print(\"The probability of choosing Bowl 1:\", posterior)"
   ]
  },
  {
   "cell_type": "markdown",
   "metadata": {},
   "source": [
    "The posterior probability is  0.6 , a little higher than the prior, which was  0.5 .\n",
    "\n",
    "So the vanilla cookie makes us a little more certain that we chose Bowl 1.\n",
    "\n",
    "### Challenge 4\n",
    "What if we had chosen a chocolate cookie instead; what would be the posterior probability of Bowl 1?"
   ]
  },
  {
   "cell_type": "code",
   "execution_count": 7,
   "metadata": {},
   "outputs": [
    {
     "name": "stdout",
     "output_type": "stream",
     "text": [
      "The probability of choosing Bowl 1: 0.3333333333333333\n"
     ]
    }
   ],
   "source": [
    "#Your solution here\n",
    "#𝑃(𝐻)\n",
    "prior = probability(matching_outcomes=1, total_outcomes=2)\n",
    "#𝑃(𝐷|𝐻) \n",
    "likelihood =probability(matching_outcomes=10, total_outcomes=40)\n",
    "#𝑃(𝐷)\n",
    "prob_data = probability(matching_outcomes=30, total_outcomes=80)\n",
    "#computing 𝑃(𝐻|𝐷) \n",
    "posterior = prior * likelihood / prob_data\n",
    "print(\"The probability of choosing Bowl 1:\", posterior)"
   ]
  },
  {
   "cell_type": "markdown",
   "metadata": {},
   "source": [
    "### 2- Random Numbers Generation\n",
    "A random number generator lets you draw, at random, a number from a specified distribution. Several random number generators are included in the `random` subpackage of `numpy`.\n",
    "\n",
    "#### The random.random() function\n",
    " The `random.random()` function returns the next nearest  foating-point value from the generated sequence. All return values are enclosed between 0 and 1.0. Let's explore a practical example that uses this function:"
   ]
  },
  {
   "cell_type": "code",
   "execution_count": 11,
   "metadata": {
    "scrolled": true
   },
   "outputs": [
    {
     "name": "stdout",
     "output_type": "stream",
     "text": [
      "0.7056 0.5202 0.3746 0.0334 0.4586 0.9291 0.8291 0.5517 0.0789 0.5734 0.3502 0.1212 0.8131 0.2751 0.2002 0.8139 0.8287 0.2883 0.2280 0.9503 "
     ]
    }
   ],
   "source": [
    "for i in range(20):\n",
    "    print('%05.4f' % rnd.random(), end=' ')"
   ]
  },
  {
   "cell_type": "markdown",
   "metadata": {},
   "source": [
    "In the above example, 20 pseudorandom numbers are generated. Each number is printed in a format that includes 5 digits, including 4 decimal places.\n",
    "If we call the random() function again, we get a different sequence numbers:"
   ]
  },
  {
   "cell_type": "code",
   "execution_count": 12,
   "metadata": {},
   "outputs": [
    {
     "name": "stdout",
     "output_type": "stream",
     "text": [
      "0.0411 0.2676 0.9506 0.4063 0.6855 0.7327 0.5072 0.3604 0.1146 0.4119 0.6804 0.7224 0.3000 0.0268 0.1629 0.7183 0.0468 0.0621 0.4750 0.6055 "
     ]
    }
   ],
   "source": [
    "for i in range(20):\n",
    "    print('%05.4f' % rnd.random(), end=' ')"
   ]
  },
  {
   "cell_type": "markdown",
   "metadata": {},
   "source": [
    "#### The random.seed() function\n",
    "Internally, the random number generator starts with what is called a `seed`. The `seed` is a number and is generated automatically (and supposedly at random) when you call the random number generator. The value of the seed exactly defines the sequence of random numbers that you get. For example, let's set seed equal to 1:"
   ]
  },
  {
   "cell_type": "code",
   "execution_count": 13,
   "metadata": {},
   "outputs": [
    {
     "name": "stdout",
     "output_type": "stream",
     "text": [
      "0.4170 0.7203 0.0001 0.3023 0.1468 0.0923 0.1863 0.3456 0.3968 0.5388 0.4192 0.6852 0.2045 0.8781 0.0274 0.6705 0.4173 0.5587 0.1404 0.1981 "
     ]
    }
   ],
   "source": [
    "rnd.seed(1)\n",
    "for i in range(20):\n",
    "    print('%05.4f' % rnd.random(), end=' ')"
   ]
  },
  {
   "cell_type": "markdown",
   "metadata": {},
   "source": [
    "If we now specify the `seed` again as 1, the exact same sequence is generated again."
   ]
  },
  {
   "cell_type": "code",
   "execution_count": 14,
   "metadata": {},
   "outputs": [
    {
     "name": "stdout",
     "output_type": "stream",
     "text": [
      "0.4170 0.7203 0.0001 0.3023 0.1468 0.0923 0.1863 0.3456 0.3968 0.5388 0.4192 0.6852 0.2045 0.8781 0.0274 0.6705 0.4173 0.5587 0.1404 0.1981 "
     ]
    }
   ],
   "source": [
    "rnd.seed(1)\n",
    "for i in range(20):\n",
    "    print('%05.4f' % rnd.random(), end=' ')"
   ]
  },
  {
   "cell_type": "markdown",
   "metadata": {},
   "source": [
    "#### The random.uniform() function\n",
    "The `random.uniform()` function generates numbers within a defined numeric range. Let's look at an example:"
   ]
  },
  {
   "cell_type": "code",
   "execution_count": 15,
   "metadata": {},
   "outputs": [
    {
     "name": "stdout",
     "output_type": "stream",
     "text": [
      "80.2737 96.8579 32.0290 69.5399 87.7625 89.5661 9.4194 4.8664 17.8132 87.9361 10.7363 42.6897 95.8311 53.7834 69.4958 32.2360 68.9636 83.6279 2.8105 75.2643 "
     ]
    }
   ],
   "source": [
    "for i in range(20):\n",
    "    print('%6.4f' % rnd.uniform(1, 100), end=' ')"
   ]
  },
  {
   "cell_type": "markdown",
   "metadata": {},
   "source": [
    "In the above example, 20 random numbers are generated in the range of [1,100)\n",
    "\n",
    "#### The random.randint() function\n",
    "This function generates random integers.  The arguments for `randint()` are the values of the range, including the extremes.  The numbers may be negative or positive, but the  1st value should be less than the second. Let's look at an example:"
   ]
  },
  {
   "cell_type": "code",
   "execution_count": 16,
   "metadata": {},
   "outputs": [
    {
     "name": "stdout",
     "output_type": "stream",
     "text": [
      "-85 -36 96 -75 11 35 -74 53 4 -78 -91 95 26 -77 25 0 55 65 -43 -17 "
     ]
    }
   ],
   "source": [
    "for i in range(20):\n",
    "    print(rnd.randint(-100, 100), end=' ')"
   ]
  },
  {
   "cell_type": "markdown",
   "metadata": {},
   "source": [
    "In the above example, 20 random integer numbers are generated in the range of [-100,100]\n",
    "\n",
    "#### The random.choice() function\n",
    "A common use for random number generators is to select a random element from a sequence of enumerated values, even if these values are not numbers.  The `choice()` function returns a random element of the non-empty sequence passed as an argument. This function is suitable to use in extracting values from a predetermined list:"
   ]
  },
  {
   "cell_type": "code",
   "execution_count": 17,
   "metadata": {},
   "outputs": [
    {
     "name": "stdout",
     "output_type": "stream",
     "text": [
      "Randomly selected item from Cities list is -  Los Angeles\n",
      "Randomly selected item from Cities list is -  Madrid\n",
      "Randomly selected item from Cities list is -  Rome\n",
      "Randomly selected item from Cities list is -  Algiers\n",
      "Randomly selected item from Cities list is -  Toronto\n"
     ]
    }
   ],
   "source": [
    "CitiesList = ['Rome','New York','Algiers','London','Berlin','Moskov',\n",
    "'Los Angeles','Paris','Madrid','Tokio','Toronto']\n",
    "for i in range(5):\n",
    "    CitiesItem = rnd.choice(CitiesList)\n",
    "    print (\"Randomly selected item from Cities list is - \",CitiesItem)"
   ]
  },
  {
   "cell_type": "markdown",
   "metadata": {},
   "source": [
    "In the above example, 5 random elements are selected from the sequence list CitiesList. At each iteration of the cycle, a new element is extracted from the list containingthe names of the cities.\n",
    "\n",
    "#### Selecting n random values from an array \n",
    "Many simulations require random samples from a population of input values.  The `size` option in the `choice()` function is for that purpose. Let's look at an example:"
   ]
  },
  {
   "cell_type": "code",
   "execution_count": 18,
   "metadata": {},
   "outputs": [
    {
     "name": "stdout",
     "output_type": "stream",
     "text": [
      "Initial Data List =  range(10, 100, 10)\n",
      "Sample Data List =  [80 80 80 40 10]\n"
     ]
    }
   ],
   "source": [
    "DataList = range(10,100,10)\n",
    "print(\"Initial Data List = \",DataList)\n",
    "DataSample = rnd.choice(DataList,size=5)\n",
    "print(\"Sample Data List = \",DataSample)"
   ]
  },
  {
   "cell_type": "markdown",
   "metadata": {},
   "source": [
    "In the above example, only 5 elements of the initial list were selected, and this selection was completely random.\n",
    "### 2- Exploring Probability Distributions\n",
    "#### Uniform Distribution\n",
    "This distribution generates random values uniformly distributed over the half-open interval [a,b).\n",
    "Any value within the given interval is equally likely to be drawn by uniform distribution. Let's look at an example:"
   ]
  },
  {
   "cell_type": "code",
   "execution_count": 19,
   "metadata": {},
   "outputs": [
    {
     "data": {
      "image/png": "[encoded data removed]",
      "text/plain": [
       "<Figure size 432x288 with 1 Axes>"
      ]
     },
     "metadata": {
      "needs_background": "light"
     },
     "output_type": "display_data"
    }
   ],
   "source": [
    "#Initializing uniform distribution parameters \n",
    "a=1\n",
    "b=100\n",
    "N=100\n",
    "#Randomly generate 100 numbers between a and b\n",
    "#using uniform distribution\n",
    "X1=rnd.uniform(a,b,N)\n",
    "#Ploting X1 using matplotlib.pyplot library\n",
    "plt.plot(X1)\n",
    "plt.show()"
   ]
  },
  {
   "cell_type": "markdown",
   "metadata": {},
   "source": [
    "Lets now analyze how the generated values are distributed in the interval considered. We draw a graph of the probability density function as follows:"
   ]
  },
  {
   "cell_type": "code",
   "execution_count": 20,
   "metadata": {},
   "outputs": [
    {
     "data": {
      "image/png": "[encoded data removed]",
      "text/plain": [
       "<Figure size 432x288 with 1 Axes>"
      ]
     },
     "metadata": {
      "needs_background": "light"
     },
     "output_type": "display_data"
    }
   ],
   "source": [
    "plt.figure()\n",
    "plt.hist(X1, density=True, histtype='stepfilled',\n",
    "alpha=0.2)\n",
    "plt.show()"
   ]
  },
  {
   "cell_type": "markdown",
   "metadata": {},
   "source": [
    "Here, we can see that the generated values are distributed almost evenly throughout the range.\n",
    "Let's now see What happens if we increase the number of generated values?\n",
    "Then, we repeat the commands to generate up to 10000 random numbers uniformly distributed between 1 and 100."
   ]
  },
  {
   "cell_type": "code",
   "execution_count": 21,
   "metadata": {},
   "outputs": [
    {
     "data": {
      "image/png": "[encoded data removed]",
      "text/plain": [
       "<Figure size 432x288 with 1 Axes>"
      ]
     },
     "metadata": {
      "needs_background": "light"
     },
     "output_type": "display_data"
    },
    {
     "data": {
      "image/png": "[encoded data removed]",
      "text/plain": [
       "<Figure size 432x288 with 1 Axes>"
      ]
     },
     "metadata": {
      "needs_background": "light"
     },
     "output_type": "display_data"
    }
   ],
   "source": [
    "a=1\n",
    "b=100\n",
    "N=10000\n",
    "\n",
    "X2=rnd.uniform(a,b,N)\n",
    "plt.figure()\n",
    "plt.plot(X2)\n",
    "plt.show()\n",
    "\n",
    "plt.figure()\n",
    "plt.hist(X2, density=True, histtype='stepfilled',\n",
    "alpha=0.2)\n",
    "plt.show()"
   ]
  },
  {
   "cell_type": "markdown",
   "metadata": {},
   "source": [
    "Analyzing the previous histogram and comparing it with what we obtained in the case of N=100, we can see that this time, the distribution appears to be  flatter.  The distribution becomes more and more  flat as N increases.\n",
    "#### Binomial distribution\n",
    "The binomial distribution is the probability of obtaining $x$ successes in $t$ independent trials and is computed as follows:\n",
    "\n",
    "$p(x) =  \\binom{t}{x} p^t(1-p)^{t-x}, 0\\leq x \\leq t $\n",
    "where: $\\binom{t}{x}=\\frac{t!}{(t-p)!p!}$\n",
    "\n",
    "\n",
    "##### Example:\n",
    "<figure>\n",
    "  <IMG src=\"figures/one-dice.jpg\" WIDTH=100  ALIGN=\"right\">\n",
    "</figure>\n",
    "We throw a dice $10$ times and we want to study the binomial variable $x$= {number of times a number<= 3 cames out}.  The parameters of the problem are:\n",
    "<ol>\n",
    "   <li>  $t=10$ </li>\n",
    "   <li>  $p=3*\\frac{1}{6}=0.5$ </li>\n",
    "   <li> $q=1-p=0.5$ </li>\n",
    "</ol>\n",
    "\n",
    "Let's now simulate this experiment:"
   ]
  },
  {
   "cell_type": "code",
   "execution_count": 22,
   "metadata": {},
   "outputs": [
    {
     "data": {
      "image/png": "[encoded data removed]",
      "text/plain": [
       "<Figure size 432x288 with 1 Axes>"
      ]
     },
     "metadata": {
      "needs_background": "light"
     },
     "output_type": "display_data"
    }
   ],
   "source": [
    "#Initializing Binomial distribution parameters \n",
    "N = 1000\n",
    "t = 10\n",
    "p = 0.5\n",
    "#Generate the Binomial probability distribution\n",
    "#Then Plot\n",
    "P1 = rnd.binomial(t,p,N)\n",
    "plt.plot(P1)\n",
    "plt.show()"
   ]
  },
  {
   "cell_type": "markdown",
   "metadata": {},
   "source": [
    "We now evaluate the probability density function as follows:"
   ]
  },
  {
   "cell_type": "code",
   "execution_count": 23,
   "metadata": {},
   "outputs": [
    {
     "data": {
      "image/png": "[encoded data removed]",
      "text/plain": [
       "<Figure size 432x288 with 1 Axes>"
      ]
     },
     "metadata": {
      "needs_background": "light"
     },
     "output_type": "display_data"
    }
   ],
   "source": [
    "plt.figure()\n",
    "plt.hist(P1, density=True, alpha=0.8, histtype='bar',\n",
    "color = 'green', ec='black')\n",
    "plt.show()"
   ]
  },
  {
   "cell_type": "markdown",
   "metadata": {},
   "source": [
    "We can see that all the areas of the binomial distributions, that is, the sum of the rectangles, being the sum of probability, are worth 1.\n",
    "\n",
    "#### Normal distribution\n",
    "The normal distribution is the most used continuous distribution in statistics. Recall that the probability density distribution of the normal distribution is given as follows:\n",
    "\n",
    "$f(x)=\\frac{1}{\\sqrt{2\\pi\\sigma^2}}e^{-(x-\\mu)^2/2\\sigma^2}$\n",
    "\n",
    "##### Example:\n",
    "The average height of $18$-year old boys of $1000$ boys is normally distributed with a mean of $180$ cm and a standard deviation of $7$ cm. The parameters of the problem are:\n",
    "<ol>\n",
    "   <li>  $\\mu=180$ </li>\n",
    "   <li>  $\\sigma=7$ </li>\n",
    "</ol>\n",
    "\n",
    "Now, let’s generate a normal distribution and evaluate the probability density function with Python code as follows"
   ]
  },
  {
   "cell_type": "code",
   "execution_count": 5,
   "metadata": {},
   "outputs": [
    {
     "name": "stderr",
     "output_type": "stream",
     "text": [
      "C:\\Users\\Bureau\\AppData\\Local\\Temp\\ipykernel_5520\\919688336.py:11: UserWarning: \n",
      "\n",
      "`distplot` is a deprecated function and will be removed in seaborn v0.14.0.\n",
      "\n",
      "Please adapt your code to use either `displot` (a figure-level function with\n",
      "similar flexibility) or `histplot` (an axes-level function for histograms).\n",
      "\n",
      "For a guide to updating your code to use the new functions, please see\n",
      "https://gist.github.com/mwaskom/de44147ed2974457ad6372750bbe5751\n",
      "\n",
      "  Plot = sns.distplot(P1)\n"
     ]
    },
    {
     "data": {
      "text/plain": [
       "<Figure size 640x480 with 0 Axes>"
      ]
     },
     "execution_count": 5,
     "metadata": {},
     "output_type": "execute_result"
    },
    {
     "data": {
      "image/png": "[encoded data removed]",
      "text/plain": [
       "<Figure size 640x480 with 1 Axes>"
      ]
     },
     "metadata": {},
     "output_type": "display_data"
    },
    {
     "data": {
      "text/plain": [
       "<Figure size 640x480 with 0 Axes>"
      ]
     },
     "metadata": {},
     "output_type": "display_data"
    }
   ],
   "source": [
    "import numpy as np\n",
    "import matplotlib.pyplot as plt\n",
    "import seaborn as sns\n",
    "#Initializing Normal distribution parameters \n",
    "mu = 180\n",
    "sigma =7\n",
    "N=1000\n",
    "#Generate the Normal probability distribution\n",
    "P1 = rnd.normal(mu, sigma, N)\n",
    "#Then Plot\n",
    "Plot = sns.distplot(P1)\n",
    "plt.figure()"
   ]
  },
  {
   "cell_type": "markdown",
   "metadata": {},
   "source": [
    "We can see that the distribution of the 1000 samples populations follow a normal distribution as ploted by `sns.distplot()` function"
   ]
  },
  {
   "cell_type": "markdown",
   "metadata": {},
   "source": [
    "## Approximating Probability throught Simulation\n",
    "### Flipping a coin\n",
    " Let's flip a coin $n$ times and computes the probability via simulation by counting the number of heads (0) and the number of tails (1). Note that the theoritical probability of getting a head or tail when flipping a coin is $p(x=0)=p(x=1)=0.5$.To compute the probability via simulation, we apply the relative frequency and probability concept seen in the course: \n",
    " $f(E)=\\frac{v}{n}\\cong P(E)$. \n",
    " Where $v$ is number of the times the event $E$ occurred and $n$ the number of tests carried out"
   ]
  },
  {
   "cell_type": "code",
   "execution_count": 25,
   "metadata": {},
   "outputs": [
    {
     "name": "stdout",
     "output_type": "stream",
     "text": [
      "outcome 0 is 55 with probability=0.55\n",
      "outcome 1 is 45 with probability=0.45\n"
     ]
    },
    {
     "data": {
      "image/png": "[encoded data removed]",
      "text/plain": [
       "<Figure size 432x288 with 1 Axes>"
      ]
     },
     "metadata": {
      "needs_background": "light"
     },
     "output_type": "display_data"
    }
   ],
   "source": [
    "rnd.seed(10)\n",
    "n=100\n",
    "flip = rnd.randint(0, 2, n)\n",
    "\n",
    "outcomes = np.zeros(2, dtype='int') # Two outcomes. heads are stored in outcome[0], tails in outcome[1]\n",
    "for i in range (2):\n",
    "    outcomes[i] = np.count_nonzero(flip == i)\n",
    "    print(f'outcome {i} is {outcomes[i]} with probability={outcomes[i]/n}')\n",
    "\n",
    "plt.bar(range(0, 2), outcomes/n)\n",
    "plt.xticks(range(0, 2))\n",
    "plt.xlabel('Probability of Head/tails')\n",
    "plt.ylabel('occurence in '+str(n)+' trials');"
   ]
  },
  {
   "cell_type": "markdown",
   "metadata": {},
   "source": [
    "Now let's increase the numner of experiments and plot the probability simulation results"
   ]
  },
  {
   "cell_type": "code",
   "execution_count": 26,
   "metadata": {},
   "outputs": [
    {
     "data": {
      "text/plain": [
       "<matplotlib.legend.Legend at 0x116c434f0>"
      ]
     },
     "execution_count": 26,
     "metadata": {},
     "output_type": "execute_result"
    },
    {
     "data": {
      "image/png": "[encoded data removed]",
      "text/plain": [
       "<Figure size 432x288 with 1 Axes>"
      ]
     },
     "metadata": {
      "needs_background": "light"
     },
     "output_type": "display_data"
    }
   ],
   "source": [
    "experiments=np.arange(100, 100001, 100)\n",
    "\n",
    "outcomes_head=np.zeros(len(experiments))\n",
    "outcomes_tail=np.zeros(len(experiments))\n",
    "\n",
    "\n",
    "\n",
    "\n",
    "rnd.seed(10)\n",
    "i=0\n",
    "for n in experiments:  \n",
    "    flip = rnd.randint(0, 2, n)\n",
    "    outcomes_head[i] = np.count_nonzero(flip == 0)/n\n",
    "    outcomes_tail[i] = np.count_nonzero(flip == 1)/n  \n",
    "    i=i+1\n",
    "   \n",
    "    \n",
    "plt.plot(experiments, outcomes_head,label='Simulation (Head)')\n",
    "plt.plot(experiments, outcomes_tail,label='Simulation (Tail)')\n",
    "plt.hlines(y = 0.5, xmin = experiments[0], xmax = experiments[-1],colors=\"black\",label='Theoritical') \n",
    "plt.xlabel('Itteration $n$')\n",
    "plt.ylabel('Probability');\n",
    "plt.legend()"
   ]
  },
  {
   "cell_type": "markdown",
   "metadata": {},
   "source": [
    "We can see that the probability computed by simulation eventually converges to the true value as more experiments are conducted."
   ]
  },
  {
   "cell_type": "markdown",
   "metadata": {},
   "source": [
    "## Challenges\n",
    "### Challenge 5: Birth Weight of New Born Babies\n",
    "The birth weight (in kilograms) of the $3.226$ new born babies is normally distributed with a mean of $3.39$ klg and a standard deviation of $0.55$ klg. \n",
    "Define your problem parameters.\n",
    "Generate the normal distribution and evaluate the probability density function."
   ]
  },
  {
   "cell_type": "code",
   "execution_count": 9,
   "metadata": {},
   "outputs": [
    {
     "name": "stderr",
     "output_type": "stream",
     "text": [
      "C:\\Users\\Bureau\\AppData\\Local\\Temp\\ipykernel_2800\\654711566.py:9: UserWarning: \n",
      "\n",
      "`distplot` is a deprecated function and will be removed in seaborn v0.14.0.\n",
      "\n",
      "Please adapt your code to use either `displot` (a figure-level function with\n",
      "similar flexibility) or `histplot` (an axes-level function for histograms).\n",
      "\n",
      "For a guide to updating your code to use the new functions, please see\n",
      "https://gist.github.com/mwaskom/de44147ed2974457ad6372750bbe5751\n",
      "\n",
      "  Plot = sns.distplot(P1)\n"
     ]
    },
    {
     "data": {
      "text/plain": [
       "<Figure size 640x480 with 0 Axes>"
      ]
     },
     "execution_count": 9,
     "metadata": {},
     "output_type": "execute_result"
    },
    {
     "data": {
      "image/png": "[encoded data removed]",
      "text/plain": [
       "<Figure size 640x480 with 1 Axes>"
      ]
     },
     "metadata": {},
     "output_type": "display_data"
    },
    {
     "data": {
      "text/plain": [
       "<Figure size 640x480 with 0 Axes>"
      ]
     },
     "metadata": {},
     "output_type": "display_data"
    }
   ],
   "source": [
    "#Your code here\n",
    "#Initializing Normal distribution parameters \n",
    "mu = 3.39\n",
    "sigma =0.55\n",
    "N=3226\n",
    "#Generate the Normal probability distribution\n",
    "P1 = rnd.normal(mu, sigma, N)\n",
    "#Then Plot\n",
    "Plot = sns.distplot(P1)\n",
    "plt.figure()"
   ]
  },
  {
   "cell_type": "code",
   "execution_count": 11,
   "metadata": {},
   "outputs": [
    {
     "data": {
      "image/png": "[encoded data removed]",
      "text/plain": [
       "<Figure size 640x480 with 1 Axes>"
      ]
     },
     "metadata": {},
     "output_type": "display_data"
    }
   ],
   "source": [
    "plt.figure()\n",
    "plt.hist(P1, density=True, histtype='stepfilled',\n",
    "alpha=0.2)\n",
    "plt.show()"
   ]
  },
  {
   "cell_type": "markdown",
   "metadata": {},
   "source": [
    "### Challenge 6: Crime Survey\n",
    "An FBI survey of 1000 reports shows that about 80% of all property crimes go unsolved. Suppose that in your town 3 such crimes are committed and they are each deemed independent of each other. \n",
    "<ol>\n",
    "  <li>Simulate this experiement and evaluate the probability density function</li>\n",
    "  <li>Compute the probability that 1 of 3 of these crimes will be solved?</li>\n",
    "</ol>\n",
    "\n",
    "#### Hint\n",
    "The problem above follows a binomial distribution since the following conditions are satisfied:\n",
    "<ul>\n",
    "  <li>Does it satisfy a fixed number of trials? YES the number of trials is fixed at 3 </li>\n",
    "  <li>Does it have only 2 outcomes? YES (Solved and unsolved)</li>\n",
    "  <li>Do all the trials have the same probability of success? YES (p = (100%-80%)=0.2)</li>\n",
    "</ul>\n"
   ]
  },
  {
   "cell_type": "code",
   "execution_count": 6,
   "metadata": {},
   "outputs": [
    {
     "name": "stderr",
     "output_type": "stream",
     "text": [
      "C:\\Users\\Bureau\\AppData\\Local\\Temp\\ipykernel_5520\\4211242534.py:9: UserWarning: \n",
      "\n",
      "`distplot` is a deprecated function and will be removed in seaborn v0.14.0.\n",
      "\n",
      "Please adapt your code to use either `displot` (a figure-level function with\n",
      "similar flexibility) or `histplot` (an axes-level function for histograms).\n",
      "\n",
      "For a guide to updating your code to use the new functions, please see\n",
      "https://gist.github.com/mwaskom/de44147ed2974457ad6372750bbe5751\n",
      "\n",
      "  Plot = sns.distplot(P1)\n"
     ]
    },
    {
     "data": {
      "text/plain": [
       "<Figure size 640x480 with 0 Axes>"
      ]
     },
     "execution_count": 6,
     "metadata": {},
     "output_type": "execute_result"
    },
    {
     "data": {
      "image/png": "[encoded data removed]",
      "text/plain": [
       "<Figure size 640x480 with 1 Axes>"
      ]
     },
     "metadata": {},
     "output_type": "display_data"
    },
    {
     "data": {
      "text/plain": [
       "<Figure size 640x480 with 0 Axes>"
      ]
     },
     "metadata": {},
     "output_type": "display_data"
    }
   ],
   "source": [
    "#Your code here\n",
    "#Initializing Binomial distribution parameters \n",
    "N = 1000\n",
    "t = 3\n",
    "p = 0.2\n",
    "#Generate the Binomial probability distribution\n",
    "#Then Plot\n",
    "P1 = rnd.binomial(t,p,N)\n",
    "Plot = sns.distplot(P1)\n",
    "plt.figure()"
   ]
  },
  {
   "cell_type": "markdown",
   "metadata": {},
   "source": [
    " ### Challenge 7: Throwing a dice\n",
    "Using the 1st code in the above experiment (Flipping a coin),  throw a dice with $n=100$ times and report how many times you throw $1, 2, 3, 4, 5,$ and $6$. Use a seed of $33$. Make sure that the reported values add up to $100$. What is the theoritical probability of each event."
   ]
  },
  {
   "cell_type": "code",
   "execution_count": 7,
   "metadata": {},
   "outputs": [
    {
     "name": "stdout",
     "output_type": "stream",
     "text": [
      "[5, 1, 3, 3, 2, 2, 4, 6, 4, 5, 3, 6, 4, 2, 6, 5, 3, 5, 4, 1, 1, 3, 1, 5, 1, 1, 4, 2, 4, 4, 3, 4, 3, 2, 5, 4, 4, 4, 2, 3, 1, 1, 5, 5, 2, 3, 6, 3, 4, 5, 2, 2, 5, 2, 4, 2, 5, 1, 3, 5, 1, 5, 4, 5, 4, 6, 3, 1, 1, 2, 6, 3, 2, 5, 2, 2, 4, 4, 4, 6, 4, 4, 3, 4, 1, 4, 4, 1, 1, 2, 5, 1, 5, 5, 4, 3, 5, 1, 6, 2]\n",
      "6:  0.08\n",
      "5:  0.19\n",
      "4:  0.24\n",
      "3:  0.15\n",
      "2:  0.17\n",
      "1:  0.17\n",
      "theorical probability : 0.16666666666666666\n"
     ]
    }
   ],
   "source": [
    "#Your code here\n",
    "import numpy.random as rnd\n",
    "import numpy as np\n",
    "import matplotlib.pyplot as plt\n",
    "\n",
    "def probability(matching_outcomes, total_outcomes):\n",
    "    return matching_outcomes/total_outcomes\n",
    "arr=[]\n",
    "rnd.seed(33)\n",
    "for i in range(100):\n",
    "    arr.append(rnd.randint(1, 7))\n",
    "count_arr = np.bincount(arr)\n",
    "print(arr)\n",
    "print('6:  '+str(probability(count_arr[6],100)))\n",
    "print('5:  '+str(probability(count_arr[5],100)))\n",
    "print('4:  '+str(probability(count_arr[4],100)))\n",
    "print('3:  '+str(probability(count_arr[3],100)))\n",
    "print('2:  '+str(probability(count_arr[2],100)))\n",
    "print('1:  '+str(probability(count_arr[1],100)))\n",
    "print('theorical probability : '+str(probability(1,6)))\n",
    "x2=[probability(count_arr[6],100),probability(count_arr[5],100),probability(count_arr[4],100),probability(count_arr[3],100),probability(count_arr[2],100),probability(count_arr[1],100)]"
   ]
  },
  {
   "cell_type": "markdown",
   "metadata": {},
   "source": [
    "Now Using the 2nd code in the Flipping a coin experiment, plot the probability simulation results and compare it with the theoritical probability."
   ]
  },
  {
   "cell_type": "code",
   "execution_count": 8,
   "metadata": {},
   "outputs": [
    {
     "name": "stdout",
     "output_type": "stream",
     "text": [
      "[5, 1, 3, 3, 2, 2, 4, 6, 4, 5, 3, 6, 4, 2, 6, 5, 3, 5, 4, 1, 1, 3, 1, 5, 1, 1, 4, 2, 4, 4, 3, 4, 3, 2, 5, 4, 4, 4, 2, 3, 1, 1, 5, 5, 2, 3, 6, 3, 4, 5, 2, 2, 5, 2, 4, 2, 5, 1, 3, 5, 1, 5, 4, 5, 4, 6, 3, 1, 1, 2, 6, 3, 2, 5, 2, 2, 4, 4, 4, 6, 4, 4, 3, 4, 1, 4, 4, 1, 1, 2, 5, 1, 5, 5, 4, 3, 5, 1, 6, 2]\n",
      "6:  0.08\n",
      "5:  0.19\n",
      "4:  0.24\n",
      "3:  0.15\n",
      "2:  0.17\n",
      "1:  0.17\n",
      "theorical probability : 16.666666666666664\n"
     ]
    },
    {
     "data": {
      "image/png": "[encoded data removed]",
      "text/plain": [
       "<Figure size 640x480 with 1 Axes>"
      ]
     },
     "metadata": {},
     "output_type": "display_data"
    }
   ],
   "source": [
    "#Your code here\n",
    "import numpy.random as rnd\n",
    "import numpy as np\n",
    "import matplotlib.pyplot as plt\n",
    "\n",
    "def probability(matching_outcomes, total_outcomes):\n",
    "    return matching_outcomes/total_outcomes\n",
    "arr=[]\n",
    "rnd.seed(33)\n",
    "for i in range(100):\n",
    "    arr.append(rnd.randint(1, 7))\n",
    "count_arr = np.bincount(arr)\n",
    "print(arr)\n",
    "print('6:  '+str(probability(count_arr[6],100)))\n",
    "print('5:  '+str(probability(count_arr[5],100)))\n",
    "print('4:  '+str(probability(count_arr[4],100)))\n",
    "print('3:  '+str(probability(count_arr[3],100)))\n",
    "print('2:  '+str(probability(count_arr[2],100)))\n",
    "print('1:  '+str(probability(count_arr[1],100)))\n",
    "print('theorical probability : '+str(100*probability(1,6)))\n",
    "x2=[probability(count_arr[6],100),probability(count_arr[5],100),probability(count_arr[4],100),probability(count_arr[3],100),probability(count_arr[2],100),probability(count_arr[1],100)]\n",
    "# print(x2) \n",
    "# plt.figure()\n",
    "# plt.hist(x2, density=True, histtype='stepfilled',\n",
    "# alpha=0.8)\n",
    "plt.bar(range(1,7 ), x2)\n",
    "plt.xticks(range(1, 7))\n",
    "plt.xlabel('Probability of Head/tails')\n",
    "plt.ylabel('occurence in '+str(100)+' trials');"
   ]
  },
  {
   "cell_type": "markdown",
   "metadata": {},
   "source": [
    "### Challenge 8: Drawing balls from a box\n",
    "Suppose there are 12 balls in a box: 4 black, 4 red, and 4 blue. We want to make a program that draws n balls at random from the box. It is natural to represent the collection of balls as a list. Each list element can be an integer 1, 2, or 3, since we have 3 different types of balls, but it would be easier to work with the program if the balls could have a color instead of an integer number. This is easily accomplished by defining color names (See `new_box()` function below). Drawing a ball at random is performed by the `draw_ball()` function. Similarly, drawing n balls can be performed using the `draw_n_balls()` function."
   ]
  },
  {
   "cell_type": "code",
   "execution_count": 9,
   "metadata": {},
   "outputs": [],
   "source": [
    "import numpy.random as rnd\n",
    "\n",
    "def new_box():\n",
    "    colors = 'black', 'red', 'blue'   # (tuple of strings)\n",
    "    box = []\n",
    "    for color in colors:\n",
    "        for i in range(4):\n",
    "            box.append(color)\n",
    "    return box\n",
    "\n",
    "def draw_ball(box):\n",
    "    color = rnd.choice(box)\n",
    "    box.remove(color)\n",
    "    return color, box\n",
    "\n",
    "def draw_n_balls(box,n):\n",
    "# Draw n balls from the box\n",
    "    balls = []\n",
    "    for i in range(n):\n",
    "        color, box = draw_ball(box)\n",
    "        balls.append(color)\n",
    "    return balls\n"
   ]
  },
  {
   "cell_type": "markdown",
   "metadata": {},
   "source": [
    "#### Question\n",
    "Now, we ask you to compute the probability of drawing 2 or more black balls from that box via experiemntal simulation. To do so, perform `N` experiments, count how many times `M` you get 2 or more black balls, and estimate the probability as `M/N`. Each experiment consists of making the box list, drawing a number of balls, and counting how many black balls we got. The latter task is easy with the count method in list objects: `box.count('black')` counts how many elements with value 'black' we have in the list box.\n",
    "Given:\n",
    "<ul>\n",
    "  <li>n as how  many balls are to be drawn? </li>\n",
    "  <li>N as how many experiments?</li>\n",
    "</ul>\n",
    " Write a python program using the functions defined just above to compute the required probability.\n",
    " Run your program with n=5 (drawing 5 balls each time) and N=4000 and reports the probability result.\n",
    " Try with other n values and report what differs from the obtained results."
   ]
  },
  {
   "cell_type": "code",
   "execution_count": 12,
   "metadata": {},
   "outputs": [
    {
     "name": "stdout",
     "output_type": "stream",
     "text": [
      "Probability:0.57\n"
     ]
    }
   ],
   "source": [
    "n = 5\n",
    "N = 4000\n",
    "\n",
    "prob=0\n",
    "succes =0\n",
    "\n",
    "for i in range(N):\n",
    "    box = new_box()\n",
    "    draw_n_balls(box,n)\n",
    "    if (box.count('black')<=2):\n",
    "        succes=succes+1\n",
    "prob=succes/N\n",
    "print ('Probability:' \"{:.2f}\".format(prob))"
   ]
  },
  {
   "cell_type": "code",
   "execution_count": null,
   "metadata": {},
   "outputs": [],
   "source": []
  }
 ],
 "metadata": {
  "kernelspec": {
   "display_name": "Python 3 (ipykernel)",
   "language": "python",
   "name": "python3"
  },
  "language_info": {
   "codemirror_mode": {
    "name": "ipython",
    "version": 3
   },
   "file_extension": ".py",
   "mimetype": "text/x-python",
   "name": "python",
   "nbconvert_exporter": "python",
   "pygments_lexer": "ipython3",
   "version": "3.10.6"
  }
 },
 "nbformat": 4,
 "nbformat_minor": 4
}
